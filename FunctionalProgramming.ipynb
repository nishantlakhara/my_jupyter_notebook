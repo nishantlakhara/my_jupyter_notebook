{
 "cells": [
  {
   "cell_type": "code",
   "execution_count": 3,
   "id": "60faa237",
   "metadata": {},
   "outputs": [],
   "source": [
    "#Mutable data structures\n",
    "scientists = [\n",
    "    {\n",
    "        'name': 'Ada Lovelace', \n",
    "        'field': 'math',\n",
    "        'born': 1815,\n",
    "        'nobel': False\n",
    "    },\n",
    "    {\n",
    "        'name': 'Emmy Noether', \n",
    "        'field': 'math',\n",
    "        'born': 1882,\n",
    "        'nobel': False\n",
    "    },\n",
    "]"
   ]
  },
  {
   "cell_type": "code",
   "execution_count": 4,
   "id": "d6c7f898",
   "metadata": {},
   "outputs": [
    {
     "data": {
      "text/plain": [
       "[{'name': 'Ada Lovelace', 'field': 'math', 'born': 1815, 'nobel': False},\n",
       " {'name': 'Emmy Noether', 'field': 'math', 'born': 1882, 'nobel': False}]"
      ]
     },
     "execution_count": 4,
     "metadata": {},
     "output_type": "execute_result"
    }
   ],
   "source": [
    "scientists"
   ]
  },
  {
   "cell_type": "code",
   "execution_count": 5,
   "id": "f5e2f968",
   "metadata": {},
   "outputs": [
    {
     "data": {
      "text/plain": [
       "[{'name': 'Ed Lovelace', 'field': 'math', 'born': 1815, 'nobel': False},\n",
       " {'name': 'Emmy Noether', 'field': 'math', 'born': 1882, 'nobel': False}]"
      ]
     },
     "execution_count": 5,
     "metadata": {},
     "output_type": "execute_result"
    }
   ],
   "source": [
    "scientists[0]['name'] = 'Ed Lovelace'\n",
    "scientists"
   ]
  },
  {
   "cell_type": "code",
   "execution_count": 6,
   "id": "3c717eb3",
   "metadata": {},
   "outputs": [
    {
     "data": {
      "text/plain": [
       "__main__.Scientist"
      ]
     },
     "execution_count": 6,
     "metadata": {},
     "output_type": "execute_result"
    }
   ],
   "source": [
    "import collections\n",
    "Scientist = collections.namedtuple('Scientist', [\n",
    "    'name',\n",
    "    'field',\n",
    "    'born',\n",
    "    'nobel'\n",
    "])\n",
    "Scientist"
   ]
  },
  {
   "cell_type": "code",
   "execution_count": 8,
   "id": "a3652ddb",
   "metadata": {},
   "outputs": [
    {
     "data": {
      "text/plain": [
       "Scientist(name='Ada Lovelace', field='math', born=1815, nobel=False)"
      ]
     },
     "execution_count": 8,
     "metadata": {},
     "output_type": "execute_result"
    }
   ],
   "source": [
    "Scientist(name='Ada Lovelace', field='math', born = 1815, nobel=False)"
   ]
  },
  {
   "cell_type": "code",
   "execution_count": 10,
   "id": "a259b0c6",
   "metadata": {},
   "outputs": [
    {
     "data": {
      "text/plain": [
       "'Ada Lovelace'"
      ]
     },
     "execution_count": 10,
     "metadata": {},
     "output_type": "execute_result"
    }
   ],
   "source": [
    "ada = Scientist(name='Ada Lovelace', field='math', born = 1815, nobel=False)\n",
    "ada.name"
   ]
  },
  {
   "cell_type": "code",
   "execution_count": 11,
   "id": "5a9bf302",
   "metadata": {},
   "outputs": [
    {
     "ename": "AttributeError",
     "evalue": "can't set attribute",
     "output_type": "error",
     "traceback": [
      "\u001b[1;31m---------------------------------------------------------------------------\u001b[0m",
      "\u001b[1;31mAttributeError\u001b[0m                            Traceback (most recent call last)",
      "\u001b[1;32m<ipython-input-11-36c6ed30c036>\u001b[0m in \u001b[0;36m<module>\u001b[1;34m\u001b[0m\n\u001b[1;32m----> 1\u001b[1;33m \u001b[0mada\u001b[0m\u001b[1;33m.\u001b[0m\u001b[0mname\u001b[0m\u001b[1;33m=\u001b[0m \u001b[1;34m'Ed Lovelace'\u001b[0m\u001b[1;33m\u001b[0m\u001b[1;33m\u001b[0m\u001b[0m\n\u001b[0m",
      "\u001b[1;31mAttributeError\u001b[0m: can't set attribute"
     ]
    }
   ],
   "source": [
    "ada.name= 'Ed Lovelace'"
   ]
  },
  {
   "cell_type": "code",
   "execution_count": 12,
   "id": "79c786c6",
   "metadata": {},
   "outputs": [],
   "source": [
    "scientists = [\n",
    "    Scientist(name='Ada Lovelace', field='math', born = 1815, nobel=False),\n",
    "    Scientist(name='Emmy Noether', field='math', born = 1882, nobel=False)\n",
    "]"
   ]
  },
  {
   "cell_type": "code",
   "execution_count": 13,
   "id": "9abd518c",
   "metadata": {},
   "outputs": [
    {
     "data": {
      "text/plain": [
       "[Scientist(name='Ada Lovelace', field='math', born=1815, nobel=False),\n",
       " Scientist(name='Emmy Noether', field='math', born=1882, nobel=False)]"
      ]
     },
     "execution_count": 13,
     "metadata": {},
     "output_type": "execute_result"
    }
   ],
   "source": [
    "scientists"
   ]
  },
  {
   "cell_type": "code",
   "execution_count": 14,
   "id": "5e13e755",
   "metadata": {},
   "outputs": [
    {
     "ename": "AttributeError",
     "evalue": "can't set attribute",
     "output_type": "error",
     "traceback": [
      "\u001b[1;31m---------------------------------------------------------------------------\u001b[0m",
      "\u001b[1;31mAttributeError\u001b[0m                            Traceback (most recent call last)",
      "\u001b[1;32m<ipython-input-14-54c7a3e0374d>\u001b[0m in \u001b[0;36m<module>\u001b[1;34m\u001b[0m\n\u001b[1;32m----> 1\u001b[1;33m \u001b[0mscientists\u001b[0m\u001b[1;33m[\u001b[0m\u001b[1;36m0\u001b[0m\u001b[1;33m]\u001b[0m\u001b[1;33m.\u001b[0m\u001b[0mname\u001b[0m \u001b[1;33m=\u001b[0m \u001b[1;34m'Ed Lovelace'\u001b[0m\u001b[1;33m\u001b[0m\u001b[1;33m\u001b[0m\u001b[0m\n\u001b[0m",
      "\u001b[1;31mAttributeError\u001b[0m: can't set attribute"
     ]
    }
   ],
   "source": [
    "scientists[0].name = 'Ed Lovelace'"
   ]
  },
  {
   "cell_type": "code",
   "execution_count": 15,
   "id": "3664fe2e",
   "metadata": {},
   "outputs": [],
   "source": [
    "del scientists[0]"
   ]
  },
  {
   "cell_type": "code",
   "execution_count": 16,
   "id": "66b5d8b1",
   "metadata": {},
   "outputs": [
    {
     "data": {
      "text/plain": [
       "[Scientist(name='Emmy Noether', field='math', born=1882, nobel=False)]"
      ]
     },
     "execution_count": 16,
     "metadata": {},
     "output_type": "execute_result"
    }
   ],
   "source": [
    "scientists"
   ]
  },
  {
   "cell_type": "code",
   "execution_count": 17,
   "id": "18190bc3",
   "metadata": {},
   "outputs": [],
   "source": [
    "scientists = (\n",
    "    Scientist(name='Ada Lovelace', field='math', born=1815, nobel=False),\n",
    "    Scientist(name='Emmy Noether', field='math', born=1882, nobel=False)\n",
    ")"
   ]
  },
  {
   "cell_type": "code",
   "execution_count": 18,
   "id": "ba954d40",
   "metadata": {},
   "outputs": [
    {
     "data": {
      "text/plain": [
       "(Scientist(name='Ada Lovelace', field='math', born=1815, nobel=False),\n",
       " Scientist(name='Emmy Noether', field='math', born=1882, nobel=False))"
      ]
     },
     "execution_count": 18,
     "metadata": {},
     "output_type": "execute_result"
    }
   ],
   "source": [
    "scientists"
   ]
  },
  {
   "cell_type": "code",
   "execution_count": 19,
   "id": "55d0f1b4",
   "metadata": {},
   "outputs": [
    {
     "ename": "TypeError",
     "evalue": "'tuple' object doesn't support item deletion",
     "output_type": "error",
     "traceback": [
      "\u001b[1;31m---------------------------------------------------------------------------\u001b[0m",
      "\u001b[1;31mTypeError\u001b[0m                                 Traceback (most recent call last)",
      "\u001b[1;32m<ipython-input-19-e857c6f27cff>\u001b[0m in \u001b[0;36m<module>\u001b[1;34m\u001b[0m\n\u001b[1;32m----> 1\u001b[1;33m \u001b[1;32mdel\u001b[0m \u001b[0mscientists\u001b[0m\u001b[1;33m[\u001b[0m\u001b[1;36m0\u001b[0m\u001b[1;33m]\u001b[0m\u001b[1;33m\u001b[0m\u001b[1;33m\u001b[0m\u001b[0m\n\u001b[0m",
      "\u001b[1;31mTypeError\u001b[0m: 'tuple' object doesn't support item deletion"
     ]
    }
   ],
   "source": [
    "del scientists[0]"
   ]
  },
  {
   "cell_type": "code",
   "execution_count": 20,
   "id": "102fd66b",
   "metadata": {},
   "outputs": [
    {
     "data": {
      "text/plain": [
       "'Ada Lovelace'"
      ]
     },
     "execution_count": 20,
     "metadata": {},
     "output_type": "execute_result"
    }
   ],
   "source": [
    "scientists[0].name"
   ]
  },
  {
   "cell_type": "code",
   "execution_count": null,
   "id": "7f4c984f",
   "metadata": {},
   "outputs": [],
   "source": [
    " "
   ]
  }
 ],
 "metadata": {
  "kernelspec": {
   "display_name": "Python 3",
   "language": "python",
   "name": "python3"
  },
  "language_info": {
   "codemirror_mode": {
    "name": "ipython",
    "version": 3
   },
   "file_extension": ".py",
   "mimetype": "text/x-python",
   "name": "python",
   "nbconvert_exporter": "python",
   "pygments_lexer": "ipython3",
   "version": "3.7.4"
  }
 },
 "nbformat": 4,
 "nbformat_minor": 5
}
